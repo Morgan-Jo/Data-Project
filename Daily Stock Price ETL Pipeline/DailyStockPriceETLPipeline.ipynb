{
 "cells": [
  {
   "cell_type": "markdown",
   "id": "3c943639-0a96-43d3-b3dd-da070eea2b5d",
   "metadata": {},
   "source": [
    "##  Daily Stock Price ETL Pipeline"
   ]
  },
  {
   "cell_type": "markdown",
   "id": "a1e861e2-3c9d-43b1-a182-0b2daf8f90aa",
   "metadata": {},
   "source": [
    "# STEP 1: Import Libraries"
   ]
  },
  {
   "cell_type": "code",
   "execution_count": 3,
   "id": "fe299918-4978-4d2e-be5c-4dc9f1ba184e",
   "metadata": {},
   "outputs": [
    {
     "name": "stdout",
     "output_type": "stream",
     "text": [
      "Requirement already satisfied: yfinance in c:\\users\\morgan tonner\\anaconda3\\lib\\site-packages (0.2.61)\n",
      "Requirement already satisfied: pandas>=1.3.0 in c:\\users\\morgan tonner\\anaconda3\\lib\\site-packages (from yfinance) (2.2.2)\n",
      "Requirement already satisfied: numpy>=1.16.5 in c:\\users\\morgan tonner\\anaconda3\\lib\\site-packages (from yfinance) (1.26.4)\n",
      "Requirement already satisfied: requests>=2.31 in c:\\users\\morgan tonner\\anaconda3\\lib\\site-packages (from yfinance) (2.32.3)\n",
      "Requirement already satisfied: multitasking>=0.0.7 in c:\\users\\morgan tonner\\anaconda3\\lib\\site-packages (from yfinance) (0.0.11)\n",
      "Requirement already satisfied: platformdirs>=2.0.0 in c:\\users\\morgan tonner\\anaconda3\\lib\\site-packages (from yfinance) (3.10.0)\n",
      "Requirement already satisfied: pytz>=2022.5 in c:\\users\\morgan tonner\\anaconda3\\lib\\site-packages (from yfinance) (2024.1)\n",
      "Requirement already satisfied: frozendict>=2.3.4 in c:\\users\\morgan tonner\\anaconda3\\lib\\site-packages (from yfinance) (2.4.2)\n",
      "Requirement already satisfied: peewee>=3.16.2 in c:\\users\\morgan tonner\\anaconda3\\lib\\site-packages (from yfinance) (3.18.1)\n",
      "Requirement already satisfied: beautifulsoup4>=4.11.1 in c:\\users\\morgan tonner\\anaconda3\\lib\\site-packages (from yfinance) (4.12.3)\n",
      "Requirement already satisfied: curl_cffi>=0.7 in c:\\users\\morgan tonner\\anaconda3\\lib\\site-packages (from yfinance) (0.11.1)\n",
      "Requirement already satisfied: protobuf>=3.19.0 in c:\\users\\morgan tonner\\anaconda3\\lib\\site-packages (from yfinance) (4.25.3)\n",
      "Requirement already satisfied: websockets>=13.0 in c:\\users\\morgan tonner\\anaconda3\\lib\\site-packages (from yfinance) (15.0.1)\n",
      "Requirement already satisfied: soupsieve>1.2 in c:\\users\\morgan tonner\\anaconda3\\lib\\site-packages (from beautifulsoup4>=4.11.1->yfinance) (2.5)\n",
      "Requirement already satisfied: cffi>=1.12.0 in c:\\users\\morgan tonner\\anaconda3\\lib\\site-packages (from curl_cffi>=0.7->yfinance) (1.17.1)\n",
      "Requirement already satisfied: certifi>=2024.2.2 in c:\\users\\morgan tonner\\anaconda3\\lib\\site-packages (from curl_cffi>=0.7->yfinance) (2024.8.30)\n",
      "Requirement already satisfied: python-dateutil>=2.8.2 in c:\\users\\morgan tonner\\anaconda3\\lib\\site-packages (from pandas>=1.3.0->yfinance) (2.9.0.post0)\n",
      "Requirement already satisfied: tzdata>=2022.7 in c:\\users\\morgan tonner\\anaconda3\\lib\\site-packages (from pandas>=1.3.0->yfinance) (2023.3)\n",
      "Requirement already satisfied: charset-normalizer<4,>=2 in c:\\users\\morgan tonner\\anaconda3\\lib\\site-packages (from requests>=2.31->yfinance) (3.3.2)\n",
      "Requirement already satisfied: idna<4,>=2.5 in c:\\users\\morgan tonner\\anaconda3\\lib\\site-packages (from requests>=2.31->yfinance) (3.7)\n",
      "Requirement already satisfied: urllib3<3,>=1.21.1 in c:\\users\\morgan tonner\\anaconda3\\lib\\site-packages (from requests>=2.31->yfinance) (2.2.3)\n",
      "Requirement already satisfied: pycparser in c:\\users\\morgan tonner\\anaconda3\\lib\\site-packages (from cffi>=1.12.0->curl_cffi>=0.7->yfinance) (2.21)\n",
      "Requirement already satisfied: six>=1.5 in c:\\users\\morgan tonner\\anaconda3\\lib\\site-packages (from python-dateutil>=2.8.2->pandas>=1.3.0->yfinance) (1.16.0)\n"
     ]
    }
   ],
   "source": [
    "!pip install yfinance"
   ]
  },
  {
   "cell_type": "code",
   "execution_count": 4,
   "id": "945a5e04-9d66-43fd-8dba-8a7dc07611c3",
   "metadata": {},
   "outputs": [],
   "source": [
    "import yfinance as yf\n",
    "import pandas as pd\n",
    "import numpy as np\n",
    "from sqlalchemy import create_engine\n",
    "from datetime import datetime\n",
    "import matplotlib.pyplot as plt\n",
    "import seaborn as sns"
   ]
  },
  {
   "cell_type": "code",
   "execution_count": 5,
   "id": "18dbd3a1-9d7d-4a45-a36c-474eae1603f6",
   "metadata": {},
   "outputs": [],
   "source": [
    "import os\n",
    "\n",
    "# Create output directory if not exists\n",
    "OUTPUT_DIR = \"outputs\"\n",
    "os.makedirs(OUTPUT_DIR, exist_ok=True)"
   ]
  },
  {
   "cell_type": "markdown",
   "id": "ae158ab3-31e0-437a-9555-a98662024275",
   "metadata": {},
   "source": [
    "# STEP 2: Define Parameters"
   ]
  },
  {
   "cell_type": "code",
   "execution_count": 6,
   "id": "f60c9ab4-377d-4c1e-b328-f82a8270377c",
   "metadata": {},
   "outputs": [],
   "source": [
    "TICKERS = ['AAPL', 'MSFT', 'TSLA']\n",
    "PERIOD = '3mo'\n",
    "DB_PATH = 'sqlite:///finance_etl.db'\n",
    "TABLE_NAME = 'stock_prices'"
   ]
  },
  {
   "cell_type": "markdown",
   "id": "df5dff1d-7c6b-4f6a-ae87-5050819a23c5",
   "metadata": {},
   "source": [
    "# STEP 3: Extract Data"
   ]
  },
  {
   "cell_type": "code",
   "execution_count": 9,
   "id": "02c66147-c581-4103-b0f6-058496af3241",
   "metadata": {},
   "outputs": [
    {
     "name": "stdout",
     "output_type": "stream",
     "text": [
      "[2025-05-19 23:32:23.762271] Starting data extraction...\n"
     ]
    },
    {
     "name": "stderr",
     "output_type": "stream",
     "text": [
      "[*********************100%***********************]  1 of 1 completed\n",
      "[*********************100%***********************]  1 of 1 completed\n"
     ]
    },
    {
     "name": "stdout",
     "output_type": "stream",
     "text": [
      "Extracted data for AAPL\n"
     ]
    },
    {
     "name": "stderr",
     "output_type": "stream",
     "text": [
      "[*********************100%***********************]  1 of 1 completed"
     ]
    },
    {
     "name": "stdout",
     "output_type": "stream",
     "text": [
      "Extracted data for MSFT\n",
      "Extracted data for TSLA\n"
     ]
    },
    {
     "name": "stderr",
     "output_type": "stream",
     "text": [
      "\n"
     ]
    }
   ],
   "source": [
    "def extract_data(tickers, period):\n",
    "    print(f\"[{datetime.now()}] Starting data extraction...\")\n",
    "    data = {}\n",
    "    for ticker in tickers:\n",
    "        df = yf.download(ticker, period=period, auto_adjust=True)\n",
    "        data[ticker] = df\n",
    "        print(f\"Extracted data for {ticker}\")\n",
    "    return data\n",
    "\n",
    "raw_data = extract_data(TICKERS, PERIOD)"
   ]
  },
  {
   "cell_type": "markdown",
   "id": "ffda6671-3bb3-4df5-a114-c3f6bc6b72c6",
   "metadata": {},
   "source": [
    "# STEP 4: Transform Data"
   ]
  },
  {
   "cell_type": "code",
   "execution_count": 11,
   "id": "4e243f5b-8e69-4bec-89db-6dc668a74930",
   "metadata": {},
   "outputs": [
    {
     "name": "stdout",
     "output_type": "stream",
     "text": [
      "[2025-05-19 23:33:48.888658] Transforming data...\n"
     ]
    }
   ],
   "source": [
    "def transform_data(data_dict):\n",
    "    print(f\"[{datetime.now()}] Transforming data...\")\n",
    "    all_transformed = []\n",
    "\n",
    "    for ticker, df in data_dict.items():\n",
    "        df = df.copy()\n",
    "        df['Ticker'] = ticker\n",
    "        df['Daily_Return'] = df['Close'].pct_change()\n",
    "        df['MA_20'] = df['Close'].rolling(window=20).mean()\n",
    "        df['MA_50'] = df['Close'].rolling(window=50).mean()\n",
    "        df.dropna(inplace=True)\n",
    "        all_transformed.append(df)\n",
    "\n",
    "    final_df = pd.concat(all_transformed)\n",
    "    final_df.reset_index(inplace=True)\n",
    "    return final_df\n",
    "\n",
    "transformed_data = transform_data(raw_data)"
   ]
  },
  {
   "cell_type": "markdown",
   "id": "62c99006-0d87-47eb-90b9-3a79eefe0945",
   "metadata": {},
   "source": [
    "# STEP 5: Load to Database"
   ]
  },
  {
   "cell_type": "code",
   "execution_count": 12,
   "id": "33036281-1de8-4c54-aa1c-2dbac1af3f6a",
   "metadata": {},
   "outputs": [
    {
     "name": "stdout",
     "output_type": "stream",
     "text": [
      "[2025-05-19 23:34:04.293834] Loading data to database...\n",
      "Data loaded successfully.\n"
     ]
    }
   ],
   "source": [
    "def load_to_db(df, db_path, table_name):\n",
    "    print(f\"[{datetime.now()}] Loading data to database...\")\n",
    "    engine = create_engine(db_path)\n",
    "    df.to_sql(table_name, engine, if_exists='replace', index=False)\n",
    "    print(\"Data loaded successfully.\")\n",
    "\n",
    "load_to_db(transformed_data, DB_PATH, TABLE_NAME)"
   ]
  },
  {
   "cell_type": "markdown",
   "id": "1a3cbef0-6d09-4031-99dc-f24831856795",
   "metadata": {},
   "source": [
    "# STEP 6: Visualize Trends & Save Plots"
   ]
  },
  {
   "cell_type": "code",
   "execution_count": 17,
   "id": "17772aed-65c9-4cd1-82c3-d68d6b8eb576",
   "metadata": {},
   "outputs": [
    {
     "name": "stdout",
     "output_type": "stream",
     "text": [
      "Saved: outputs\\AAPL_price_ma.png\n",
      "Saved: outputs\\MSFT_price_ma.png\n",
      "Saved: outputs\\TSLA_price_ma.png\n",
      "Saved: outputs\\daily_returns.png\n"
     ]
    }
   ],
   "source": [
    "# Plot Close Price with Moving Averages and Save\n",
    "def plot_price_ma(ticker, df):\n",
    "    df_ticker = df[df['Ticker'] == ticker]\n",
    "    plt.figure(figsize=(12, 6))\n",
    "    plt.plot(df_ticker['Date'], df_ticker['Close'], label='Close')\n",
    "    plt.plot(df_ticker['Date'], df_ticker['MA_20'], label='MA 20')\n",
    "    plt.plot(df_ticker['Date'], df_ticker['MA_50'], label='MA 50')\n",
    "    plt.title(f\"{ticker} Price with Moving Averages\")\n",
    "    plt.xlabel(\"Date\")\n",
    "    plt.ylabel(\"Price (USD)\")\n",
    "    plt.legend()\n",
    "    plt.tight_layout()\n",
    "    \n",
    "    plot_path = os.path.join(OUTPUT_DIR, f\"{ticker}_price_ma.png\")\n",
    "    plt.savefig(plot_path)\n",
    "    plt.close()\n",
    "    print(f\"Saved: {plot_path}\")\n",
    "\n",
    "for ticker in TICKERS:\n",
    "    plot_price_ma(ticker, transformed_data)\n",
    "\n",
    "# Plot Daily Returns and Save\n",
    "plt.figure(figsize=(10, 5))\n",
    "for ticker in TICKERS:\n",
    "    df_ticker = transformed_data[transformed_data['Ticker'] == ticker]\n",
    "    plt.plot(df_ticker['Date'], df_ticker['Daily_Return'], label=ticker)\n",
    "plt.title(\"Daily Returns Over Time\")\n",
    "plt.xlabel(\"Date\")\n",
    "plt.ylabel(\"Return\")\n",
    "plt.legend()\n",
    "plt.tight_layout()\n",
    "\n",
    "returns_path = os.path.join(OUTPUT_DIR, \"daily_returns.png\")\n",
    "plt.savefig(returns_path)\n",
    "plt.close()\n",
    "print(f\"Saved: {returns_path}\")"
   ]
  },
  {
   "cell_type": "markdown",
   "id": "4a250fdc-9f6c-4025-a055-c29fd6c33844",
   "metadata": {},
   "source": [
    "# Save Final Transformed Data to CSV"
   ]
  },
  {
   "cell_type": "code",
   "execution_count": 18,
   "id": "f20bfd0c-2f9f-4604-84bf-d8944c79a69c",
   "metadata": {},
   "outputs": [
    {
     "name": "stdout",
     "output_type": "stream",
     "text": [
      "Transformed data saved to: outputs\\transformed_stock_data.csv\n"
     ]
    }
   ],
   "source": [
    "csv_path = os.path.join(OUTPUT_DIR, \"transformed_stock_data.csv\")\n",
    "transformed_data.to_csv(csv_path, index=False)\n",
    "print(f\"Transformed data saved to: {csv_path}\")"
   ]
  },
  {
   "cell_type": "code",
   "execution_count": null,
   "id": "81efc532-7d93-4605-9a18-43596320b499",
   "metadata": {},
   "outputs": [],
   "source": []
  }
 ],
 "metadata": {
  "kernelspec": {
   "display_name": "Python 3 (ipykernel)",
   "language": "python",
   "name": "python3"
  },
  "language_info": {
   "codemirror_mode": {
    "name": "ipython",
    "version": 3
   },
   "file_extension": ".py",
   "mimetype": "text/x-python",
   "name": "python",
   "nbconvert_exporter": "python",
   "pygments_lexer": "ipython3",
   "version": "3.12.7"
  }
 },
 "nbformat": 4,
 "nbformat_minor": 5
}

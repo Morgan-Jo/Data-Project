{
 "cells": [
  {
   "cell_type": "markdown",
   "id": "d1ebf6fc-238c-4856-9a39-e42796faec6b",
   "metadata": {},
   "source": [
    "# Best Value Sports Cars"
   ]
  },
  {
   "cell_type": "code",
   "execution_count": 1,
   "id": "3f9ca686-6f7e-4830-b54f-f477e6c178f7",
   "metadata": {},
   "outputs": [],
   "source": [
    "# Import necessary libraries\n",
    "import pandas as pd\n",
    "from sklearn.preprocessing import MinMaxScaler\n",
    "import matplotlib.pyplot as plt\n",
    "import seaborn as sns"
   ]
  },
  {
   "cell_type": "code",
   "execution_count": 2,
   "id": "d2f13293-76db-441e-a046-e8b701aa1775",
   "metadata": {},
   "outputs": [],
   "source": [
    "# Load the dataset\n",
    "df = pd.read_csv('Sport car price.csv')"
   ]
  },
  {
   "cell_type": "code",
   "execution_count": 3,
   "id": "e0d3dac8-da29-49ad-9c25-ef5138e8226b",
   "metadata": {},
   "outputs": [
    {
     "data": {
      "text/html": [
       "<div>\n",
       "<style scoped>\n",
       "    .dataframe tbody tr th:only-of-type {\n",
       "        vertical-align: middle;\n",
       "    }\n",
       "\n",
       "    .dataframe tbody tr th {\n",
       "        vertical-align: top;\n",
       "    }\n",
       "\n",
       "    .dataframe thead th {\n",
       "        text-align: right;\n",
       "    }\n",
       "</style>\n",
       "<table border=\"1\" class=\"dataframe\">\n",
       "  <thead>\n",
       "    <tr style=\"text-align: right;\">\n",
       "      <th></th>\n",
       "      <th>Car Make</th>\n",
       "      <th>Car Model</th>\n",
       "      <th>Year</th>\n",
       "      <th>Engine Size (L)</th>\n",
       "      <th>Horsepower</th>\n",
       "      <th>Torque (lb-ft)</th>\n",
       "      <th>0-60 MPH Time (seconds)</th>\n",
       "      <th>Price (in USD)</th>\n",
       "    </tr>\n",
       "  </thead>\n",
       "  <tbody>\n",
       "    <tr>\n",
       "      <th>0</th>\n",
       "      <td>Porsche</td>\n",
       "      <td>911</td>\n",
       "      <td>2022</td>\n",
       "      <td>3</td>\n",
       "      <td>379</td>\n",
       "      <td>331</td>\n",
       "      <td>4</td>\n",
       "      <td>101,200</td>\n",
       "    </tr>\n",
       "    <tr>\n",
       "      <th>1</th>\n",
       "      <td>Lamborghini</td>\n",
       "      <td>Huracan</td>\n",
       "      <td>2021</td>\n",
       "      <td>5.2</td>\n",
       "      <td>630</td>\n",
       "      <td>443</td>\n",
       "      <td>2.8</td>\n",
       "      <td>274,390</td>\n",
       "    </tr>\n",
       "    <tr>\n",
       "      <th>2</th>\n",
       "      <td>Ferrari</td>\n",
       "      <td>488 GTB</td>\n",
       "      <td>2022</td>\n",
       "      <td>3.9</td>\n",
       "      <td>661</td>\n",
       "      <td>561</td>\n",
       "      <td>3</td>\n",
       "      <td>333,750</td>\n",
       "    </tr>\n",
       "    <tr>\n",
       "      <th>3</th>\n",
       "      <td>Audi</td>\n",
       "      <td>R8</td>\n",
       "      <td>2022</td>\n",
       "      <td>5.2</td>\n",
       "      <td>562</td>\n",
       "      <td>406</td>\n",
       "      <td>3.2</td>\n",
       "      <td>142,700</td>\n",
       "    </tr>\n",
       "    <tr>\n",
       "      <th>4</th>\n",
       "      <td>McLaren</td>\n",
       "      <td>720S</td>\n",
       "      <td>2021</td>\n",
       "      <td>4</td>\n",
       "      <td>710</td>\n",
       "      <td>568</td>\n",
       "      <td>2.7</td>\n",
       "      <td>298,000</td>\n",
       "    </tr>\n",
       "  </tbody>\n",
       "</table>\n",
       "</div>"
      ],
      "text/plain": [
       "      Car Make Car Model  Year Engine Size (L) Horsepower Torque (lb-ft)  \\\n",
       "0      Porsche       911  2022               3        379            331   \n",
       "1  Lamborghini   Huracan  2021             5.2        630            443   \n",
       "2      Ferrari   488 GTB  2022             3.9        661            561   \n",
       "3         Audi        R8  2022             5.2        562            406   \n",
       "4      McLaren      720S  2021               4        710            568   \n",
       "\n",
       "  0-60 MPH Time (seconds) Price (in USD)  \n",
       "0                       4        101,200  \n",
       "1                     2.8        274,390  \n",
       "2                       3        333,750  \n",
       "3                     3.2        142,700  \n",
       "4                     2.7        298,000  "
      ]
     },
     "execution_count": 3,
     "metadata": {},
     "output_type": "execute_result"
    }
   ],
   "source": [
    "# show head of dataset\n",
    "df.head()"
   ]
  },
  {
   "cell_type": "code",
   "execution_count": 5,
   "id": "3ebd0a39-72bc-40a9-8e7a-f22a97db279f",
   "metadata": {},
   "outputs": [],
   "source": [
    "# Clean and convert necessary columns\n",
    "df_cleaned = df.copy()\n",
    "df_cleaned['Price (in USD)'] = df_cleaned['Price (in USD)'].replace(r'[\\$,]', '', regex=True).astype(float)\n",
    "df_cleaned['Horsepower'] = pd.to_numeric(df_cleaned['Horsepower'], errors='coerce')\n",
    "df_cleaned['Torque (lb-ft)'] = pd.to_numeric(df_cleaned['Torque (lb-ft)'], errors='coerce')\n",
    "df_cleaned['0-60 MPH Time (seconds)'] = pd.to_numeric(df_cleaned['0-60 MPH Time (seconds)'], errors='coerce')\n",
    "df_cleaned.dropna(inplace=True)"
   ]
  },
  {
   "cell_type": "code",
   "execution_count": 6,
   "id": "6a806e0c-da45-483d-b9df-5bcd0d3d5012",
   "metadata": {},
   "outputs": [],
   "source": [
    "# Normalize metrics\n",
    "scaler = MinMaxScaler()\n",
    "df_cleaned[['Horsepower_norm', 'Torque_norm', 'Acceleration_norm', 'Price_norm']] = scaler.fit_transform(\n",
    "    df_cleaned[['Horsepower', 'Torque (lb-ft)', '0-60 MPH Time (seconds)', 'Price (in USD)']]\n",
    ")"
   ]
  },
  {
   "cell_type": "code",
   "execution_count": 12,
   "id": "8f3a81fc-6bab-4001-a551-f2d5f15ef6c8",
   "metadata": {},
   "outputs": [],
   "source": [
    "# Create a new column combining make and model for uniqueness\n",
    "df_cleaned['Car'] = df_cleaned['Car Make'] + ' ' + df_cleaned['Car Model']"
   ]
  },
  {
   "cell_type": "code",
   "execution_count": 7,
   "id": "78476ba6-0b5d-470c-ad5d-fed9e327093f",
   "metadata": {},
   "outputs": [],
   "source": [
    "# Invert acceleration score (lower time = better)\n",
    "df_cleaned['Acceleration_norm'] = 1 - df_cleaned['Acceleration_norm']"
   ]
  },
  {
   "cell_type": "code",
   "execution_count": 8,
   "id": "971462e4-c6e0-4d47-9eeb-4c7e9a1dd8a4",
   "metadata": {},
   "outputs": [],
   "source": [
    "# Compute custom value score using weighted formula\n",
    "df_cleaned['Value Score'] = (\n",
    "    0.35 * df_cleaned['Horsepower_norm'] +\n",
    "    0.25 * df_cleaned['Torque_norm'] +\n",
    "    0.25 * df_cleaned['Acceleration_norm'] +\n",
    "    0.15 * (1 - df_cleaned['Price_norm'])  # lower price = better\n",
    ")"
   ]
  },
  {
   "cell_type": "code",
   "execution_count": 9,
   "id": "f0092b56-b113-4577-b3eb-1402103aa058",
   "metadata": {},
   "outputs": [],
   "source": [
    "# Rank the cars by value score\n",
    "df_cleaned['Rank'] = df_cleaned['Value Score'].rank(ascending=False)\n",
    "best_value_cars = df_cleaned.sort_values('Rank')"
   ]
  },
  {
   "cell_type": "code",
   "execution_count": 13,
   "id": "69c3d7a2-e0ee-478f-9184-89956a2737c2",
   "metadata": {},
   "outputs": [],
   "source": [
    "# Drop duplicate car names to ensure uniqueness\n",
    "unique_cars = df_cleaned.drop_duplicates(subset='Car')"
   ]
  },
  {
   "cell_type": "code",
   "execution_count": 14,
   "id": "08aa0205-136f-4f7a-b3bc-42bfb82bfc13",
   "metadata": {},
   "outputs": [],
   "source": [
    "# Sort by value score and take top 10 unique cars\n",
    "top_10_unique = unique_cars.sort_values('Value Score', ascending=False).head(10)"
   ]
  },
  {
   "cell_type": "code",
   "execution_count": 18,
   "id": "3296b164-9905-48ba-a44c-e0845e4d4331",
   "metadata": {},
   "outputs": [
    {
     "data": {
      "image/png": "[encoded data removed]",
      "text/plain": [
       "<Figure size 1200x600 with 1 Axes>"
      ]
     },
     "metadata": {},
     "output_type": "display_data"
    }
   ],
   "source": [
    "# Plot the top 10 unique best value cars\n",
    "plt.figure(figsize=(12, 6))\n",
    "sns.barplot(data=top_10_unique, x='Value Score', y='Car', hue='Car', palette='tab10', legend=False)\n",
    "plt.title('Top 10 Best Value Sports Cars (Unique Models)')\n",
    "plt.xlabel('Value Score')\n",
    "plt.ylabel('Car')\n",
    "plt.tight_layout()\n",
    "\n",
    "# Save and show the chart\n",
    "plt.savefig('Top_10_Unique_Best_Value_Sports_Cars.png')\n",
    "plt.show()"
   ]
  },
  {
   "cell_type": "code",
   "execution_count": null,
   "id": "f6e785de-4ded-486f-a620-a2f0bc31d3f2",
   "metadata": {},
   "outputs": [],
   "source": []
  }
 ],
 "metadata": {
  "kernelspec": {
   "display_name": "Python 3 (ipykernel)",
   "language": "python",
   "name": "python3"
  },
  "language_info": {
   "codemirror_mode": {
    "name": "ipython",
    "version": 3
   },
   "file_extension": ".py",
   "mimetype": "text/x-python",
   "name": "python",
   "nbconvert_exporter": "python",
   "pygments_lexer": "ipython3",
   "version": "3.12.7"
  }
 },
 "nbformat": 4,
 "nbformat_minor": 5
}

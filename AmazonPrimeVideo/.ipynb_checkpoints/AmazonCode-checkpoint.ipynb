{
 "cells": [
  {
   "cell_type": "markdown",
   "id": "1399b718-7d28-4945-a0ec-3588df06b818",
   "metadata": {},
   "source": [
    "### Install Package"
   ]
  },
  {
   "cell_type": "code",
   "execution_count": 2,
   "id": "16ee969b-95d2-4cd5-8f0a-8dc7a6def6ce",
   "metadata": {},
   "outputs": [
    {
     "name": "stdout",
     "output_type": "stream",
     "text": [
      "Collecting dash\n",
      "  Downloading dash-3.0.4-py3-none-any.whl.metadata (10 kB)\n",
      "Requirement already satisfied: Flask<3.1,>=1.0.4 in c:\\users\\morgan tonner\\anaconda3\\lib\\site-packages (from dash) (3.0.3)\n",
      "Requirement already satisfied: Werkzeug<3.1 in c:\\users\\morgan tonner\\anaconda3\\lib\\site-packages (from dash) (3.0.3)\n",
      "Requirement already satisfied: plotly>=5.0.0 in c:\\users\\morgan tonner\\anaconda3\\lib\\site-packages (from dash) (5.24.1)\n",
      "Requirement already satisfied: importlib-metadata in c:\\users\\morgan tonner\\anaconda3\\lib\\site-packages (from dash) (7.0.1)\n",
      "Requirement already satisfied: typing-extensions>=4.1.1 in c:\\users\\morgan tonner\\anaconda3\\lib\\site-packages (from dash) (4.11.0)\n",
      "Requirement already satisfied: requests in c:\\users\\morgan tonner\\anaconda3\\lib\\site-packages (from dash) (2.32.3)\n",
      "Collecting retrying (from dash)\n",
      "  Downloading retrying-1.3.4-py3-none-any.whl.metadata (6.9 kB)\n",
      "Requirement already satisfied: nest-asyncio in c:\\users\\morgan tonner\\anaconda3\\lib\\site-packages (from dash) (1.6.0)\n",
      "Requirement already satisfied: setuptools in c:\\users\\morgan tonner\\anaconda3\\lib\\site-packages (from dash) (75.1.0)\n",
      "Requirement already satisfied: Jinja2>=3.1.2 in c:\\users\\morgan tonner\\anaconda3\\lib\\site-packages (from Flask<3.1,>=1.0.4->dash) (3.1.4)\n",
      "Requirement already satisfied: itsdangerous>=2.1.2 in c:\\users\\morgan tonner\\anaconda3\\lib\\site-packages (from Flask<3.1,>=1.0.4->dash) (2.2.0)\n",
      "Requirement already satisfied: click>=8.1.3 in c:\\users\\morgan tonner\\anaconda3\\lib\\site-packages (from Flask<3.1,>=1.0.4->dash) (8.1.7)\n",
      "Requirement already satisfied: blinker>=1.6.2 in c:\\users\\morgan tonner\\anaconda3\\lib\\site-packages (from Flask<3.1,>=1.0.4->dash) (1.6.2)\n",
      "Requirement already satisfied: tenacity>=6.2.0 in c:\\users\\morgan tonner\\anaconda3\\lib\\site-packages (from plotly>=5.0.0->dash) (8.2.3)\n",
      "Requirement already satisfied: packaging in c:\\users\\morgan tonner\\anaconda3\\lib\\site-packages (from plotly>=5.0.0->dash) (24.1)\n",
      "Requirement already satisfied: MarkupSafe>=2.1.1 in c:\\users\\morgan tonner\\anaconda3\\lib\\site-packages (from Werkzeug<3.1->dash) (2.1.3)\n",
      "Requirement already satisfied: zipp>=0.5 in c:\\users\\morgan tonner\\anaconda3\\lib\\site-packages (from importlib-metadata->dash) (3.17.0)\n",
      "Requirement already satisfied: charset-normalizer<4,>=2 in c:\\users\\morgan tonner\\anaconda3\\lib\\site-packages (from requests->dash) (3.3.2)\n",
      "Requirement already satisfied: idna<4,>=2.5 in c:\\users\\morgan tonner\\anaconda3\\lib\\site-packages (from requests->dash) (3.7)\n",
      "Requirement already satisfied: urllib3<3,>=1.21.1 in c:\\users\\morgan tonner\\anaconda3\\lib\\site-packages (from requests->dash) (2.2.3)\n",
      "Requirement already satisfied: certifi>=2017.4.17 in c:\\users\\morgan tonner\\anaconda3\\lib\\site-packages (from requests->dash) (2024.8.30)\n",
      "Requirement already satisfied: six>=1.7.0 in c:\\users\\morgan tonner\\anaconda3\\lib\\site-packages (from retrying->dash) (1.16.0)\n",
      "Requirement already satisfied: colorama in c:\\users\\morgan tonner\\anaconda3\\lib\\site-packages (from click>=8.1.3->Flask<3.1,>=1.0.4->dash) (0.4.6)\n",
      "Downloading dash-3.0.4-py3-none-any.whl (7.9 MB)\n",
      "   ---------------------------------------- 0.0/7.9 MB ? eta -:--:--\n",
      "   --- ------------------------------------ 0.8/7.9 MB 6.7 MB/s eta 0:00:02\n",
      "   --------- ------------------------------ 1.8/7.9 MB 5.0 MB/s eta 0:00:02\n",
      "   -------------- ------------------------- 2.9/7.9 MB 4.8 MB/s eta 0:00:02\n",
      "   ------------------- -------------------- 3.9/7.9 MB 4.8 MB/s eta 0:00:01\n",
      "   ----------------------- ---------------- 4.7/7.9 MB 4.8 MB/s eta 0:00:01\n",
      "   ----------------------------- ---------- 5.8/7.9 MB 4.8 MB/s eta 0:00:01\n",
      "   --------------------------------- ------ 6.6/7.9 MB 4.7 MB/s eta 0:00:01\n",
      "   -------------------------------------- - 7.6/7.9 MB 4.7 MB/s eta 0:00:01\n",
      "   ---------------------------------------- 7.9/7.9 MB 4.3 MB/s eta 0:00:00\n",
      "Downloading retrying-1.3.4-py3-none-any.whl (11 kB)\n",
      "Installing collected packages: retrying, dash\n",
      "Successfully installed dash-3.0.4 retrying-1.3.4\n"
     ]
    }
   ],
   "source": [
    "!pip install dash"
   ]
  },
  {
   "cell_type": "markdown",
   "id": "3778ff0c-25c6-4bc6-9874-52ef96176385",
   "metadata": {},
   "source": [
    "### Import Package"
   ]
  },
  {
   "cell_type": "code",
   "execution_count": 3,
   "id": "12ab3b52-7ef7-474d-ba19-1180bf203754",
   "metadata": {},
   "outputs": [],
   "source": [
    "import pandas as pd\n",
    "import plotly.express as px\n",
    "from wordcloud import WordCloud\n",
    "import dash\n",
    "from dash import dcc, html\n",
    "import base64\n",
    "from io import BytesIO"
   ]
  },
  {
   "cell_type": "markdown",
   "id": "c4a958e5-17aa-458b-8196-5c7c0f017345",
   "metadata": {},
   "source": [
    "###  Load data"
   ]
  },
  {
   "cell_type": "code",
   "execution_count": 4,
   "id": "81aab22c-30d7-46ad-abd4-79c2aa63adf7",
   "metadata": {},
   "outputs": [],
   "source": [
    "df = pd.read_csv(\"amazon_prime_titles.csv\")"
   ]
  },
  {
   "cell_type": "markdown",
   "id": "d2c64691-10ea-4335-870c-cc63754b6113",
   "metadata": {},
   "source": [
    "### Preprocessing"
   ]
  },
  {
   "cell_type": "code",
   "execution_count": 5,
   "id": "4fd5cce1-bfa9-4efc-84c8-980e7dec3736",
   "metadata": {},
   "outputs": [],
   "source": [
    "df['date_added'] = pd.to_datetime(df['date_added'], errors='coerce')\n",
    "df['year_added'] = df['date_added'].dt.year\n",
    "df['month_added'] = df['date_added'].dt.month\n",
    "df['listed_in'] = df['listed_in'].fillna('')\n",
    "df['description'] = df['description'].fillna('')\n",
    "df['country'] = df['country'].fillna('Unknown')\n",
    "df['rating'] = df['rating'].fillna('Unknown')"
   ]
  },
  {
   "cell_type": "markdown",
   "id": "fe2a6cc9-71ab-4d22-b155-504c94f276ee",
   "metadata": {},
   "source": [
    "### Generate word cloud image"
   ]
  },
  {
   "cell_type": "code",
   "execution_count": 6,
   "id": "14e9b20d-253a-46fe-b3e9-f080c7358daa",
   "metadata": {},
   "outputs": [],
   "source": [
    "wordcloud = WordCloud(width=800, height=400, background_color='white').generate(' '.join(df['description']))\n",
    "buffer = BytesIO()\n",
    "wordcloud.to_image().save(buffer, format='PNG')\n",
    "encoded_image = base64.b64encode(buffer.getvalue()).decode()"
   ]
  },
  {
   "cell_type": "markdown",
   "id": "7ddc8fa3-5343-4e7d-b475-610f048e3b4f",
   "metadata": {},
   "source": [
    "### Charts"
   ]
  },
  {
   "cell_type": "code",
   "execution_count": 17,
   "id": "cd30a685-f177-44f2-a3be-44768ef95e24",
   "metadata": {},
   "outputs": [],
   "source": [
    "fig_type = px.histogram(df, x='type', title=\"Movies vs TV Shows Distribution\")\n",
    "\n",
    "fig_monthly = px.histogram(\n",
    "    df.dropna(subset=['month_added']),\n",
    "    x='month_added',\n",
    "    color='type',\n",
    "    nbins=12,\n",
    "    title=\"Monthly Additions by Type\"\n",
    ")\n",
    "\n",
    "fig_release = px.histogram(\n",
    "    df,\n",
    "    x='release_year',\n",
    "    color='type',\n",
    "    nbins=50,\n",
    "    title=\"Release Year Distribution\"\n",
    ")\n",
    "\n",
    "top_countries = df['country'].value_counts().nlargest(10).reset_index()\n",
    "top_countries.columns = ['country', 'count']\n",
    "fig_country = px.bar(top_countries, x='country', y='count', title=\"Top 10 Countries\")\n",
    "\n",
    "top_ratings = df['rating'].value_counts().nlargest(10).reset_index()\n",
    "top_ratings.columns = ['rating', 'count']\n",
    "fig_rating = px.bar(top_ratings, x='rating', y='count', title=\"Top 10 Age Ratings\")\n",
    "\n",
    "top_genres = df['listed_in'].str.split(', ').explode().value_counts().nlargest(10).reset_index()\n",
    "top_genres.columns = ['genre', 'count']\n",
    "fig_genres = px.bar(top_genres, x='genre', y='count', title=\"Top 10 Genres\")"
   ]
  },
  {
   "cell_type": "markdown",
   "id": "d3567bee-2dfe-4d07-bbc9-b57ed410ca0d",
   "metadata": {},
   "source": [
    "### Create Dash app"
   ]
  },
  {
   "cell_type": "code",
   "execution_count": 18,
   "id": "cbaf633d-09a9-4cf2-96b0-517293f94c69",
   "metadata": {},
   "outputs": [],
   "source": [
    "app = dash.Dash(__name__)\n",
    "app.title = \"Amazon Prime Dashboard\""
   ]
  },
  {
   "cell_type": "markdown",
   "id": "608defa8-2fcf-49d8-b747-f6ccce9c6e65",
   "metadata": {},
   "source": [
    "### App Layout"
   ]
  },
  {
   "cell_type": "code",
   "execution_count": 20,
   "id": "a825e6bf-3b64-4d24-b352-d300a0800ad4",
   "metadata": {},
   "outputs": [
    {
     "data": {
      "text/html": [
       "\n",
       "        <iframe\n",
       "            width=\"100%\"\n",
       "            height=\"650\"\n",
       "            src=\"http://127.0.0.1:8050/\"\n",
       "            frameborder=\"0\"\n",
       "            allowfullscreen\n",
       "            \n",
       "        ></iframe>\n",
       "        "
      ],
      "text/plain": [
       "<IPython.lib.display.IFrame at 0x23182570500>"
      ]
     },
     "metadata": {},
     "output_type": "display_data"
    }
   ],
   "source": [
    "app.layout = html.Div([\n",
    "    html.H1(\"Amazon Prime Video Insights Dashboard\", style={'textAlign': 'center'}),\n",
    "\n",
    "    dcc.Tabs([\n",
    "        dcc.Tab(label='Type Distribution', children=[\n",
    "            dcc.Graph(figure=px.histogram(df, x='type', title=\"Distribution: Movies vs TV Shows\"))\n",
    "        ]),\n",
    "\n",
    "        dcc.Tab(label='Monthly Additions', children=[\n",
    "            dcc.Graph(figure=px.histogram(df.dropna(subset=['month_added']), x='month_added', color='type',\n",
    "                                          title=\"Monthly Additions by Type\", nbins=12))\n",
    "        ]),\n",
    "\n",
    "        dcc.Tab(label='Release Year Trends', children=[\n",
    "            dcc.Graph(figure=px.histogram(df, x='release_year', color='type', nbins=50,\n",
    "                                          title=\"Release Year Distribution by Type\"))\n",
    "        ]),\n",
    "\n",
    "        dcc.Tab(label='Countries & Ratings', children=[\n",
    "            dcc.Graph(figure=fig_country),\n",
    "            dcc.Graph(figure=fig_rating)\n",
    "        ]),\n",
    "\n",
    "        dcc.Tab(label='Genres & WordCloud', children=[\n",
    "            dcc.Graph(figure=fig_genres),\n",
    "            html.Img(src='data:image/png;base64,{}'.format(encoded_image), style={'width': '100%'})\n",
    "        ])\n",
    "    ])\n",
    "])\n",
    "\n",
    "# Run server\n",
    "if __name__ == '__main__':\n",
    "    app.run(debug=True)"
   ]
  },
  {
   "cell_type": "code",
   "execution_count": null,
   "id": "884d033c-744d-46e3-a950-50c9727d4200",
   "metadata": {},
   "outputs": [],
   "source": []
  }
 ],
 "metadata": {
  "kernelspec": {
   "display_name": "Python 3 (ipykernel)",
   "language": "python",
   "name": "python3"
  },
  "language_info": {
   "codemirror_mode": {
    "name": "ipython",
    "version": 3
   },
   "file_extension": ".py",
   "mimetype": "text/x-python",
   "name": "python",
   "nbconvert_exporter": "python",
   "pygments_lexer": "ipython3",
   "version": "3.12.7"
  }
 },
 "nbformat": 4,
 "nbformat_minor": 5
}
